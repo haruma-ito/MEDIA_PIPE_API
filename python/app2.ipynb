{
 "cells": [
  {
   "cell_type": "code",
   "execution_count": 2,
   "metadata": {},
   "outputs": [
    {
     "name": "stdout",
     "output_type": "stream",
     "text": [
      "Collecting requests\n",
      "  Using cached requests-2.32.3-py3-none-any.whl.metadata (4.6 kB)\n",
      "Collecting charset-normalizer<4,>=2 (from requests)\n",
      "  Using cached charset_normalizer-3.4.1-cp312-cp312-manylinux_2_17_x86_64.manylinux2014_x86_64.whl.metadata (35 kB)\n",
      "Collecting idna<4,>=2.5 (from requests)\n",
      "  Using cached idna-3.10-py3-none-any.whl.metadata (10 kB)\n",
      "Collecting urllib3<3,>=1.21.1 (from requests)\n",
      "  Using cached urllib3-2.3.0-py3-none-any.whl.metadata (6.5 kB)\n",
      "Collecting certifi>=2017.4.17 (from requests)\n",
      "  Downloading certifi-2025.1.31-py3-none-any.whl.metadata (2.5 kB)\n",
      "Using cached requests-2.32.3-py3-none-any.whl (64 kB)\n",
      "Downloading certifi-2025.1.31-py3-none-any.whl (166 kB)\n",
      "Using cached charset_normalizer-3.4.1-cp312-cp312-manylinux_2_17_x86_64.manylinux2014_x86_64.whl (145 kB)\n",
      "Using cached idna-3.10-py3-none-any.whl (70 kB)\n",
      "Using cached urllib3-2.3.0-py3-none-any.whl (128 kB)\n",
      "Installing collected packages: urllib3, idna, charset-normalizer, certifi, requests\n",
      "Successfully installed certifi-2025.1.31 charset-normalizer-3.4.1 idna-3.10 requests-2.32.3 urllib3-2.3.0\n",
      "Note: you may need to restart the kernel to use updated packages.\n"
     ]
    }
   ],
   "source": [
    "pip install requests\n"
   ]
  },
  {
   "cell_type": "code",
   "execution_count": 1,
   "metadata": {},
   "outputs": [
    {
     "ename": "KeyboardInterrupt",
     "evalue": "",
     "output_type": "error",
     "traceback": [
      "\u001b[0;31m---------------------------------------------------------------------------\u001b[0m",
      "\u001b[0;31mKeyboardInterrupt\u001b[0m                         Traceback (most recent call last)",
      "Cell \u001b[0;32mIn[1], line 56\u001b[0m\n\u001b[1;32m     53\u001b[0m         \u001b[38;5;28;01mbreak\u001b[39;00m\n\u001b[1;32m     55\u001b[0m     \u001b[38;5;66;03m# 0.1秒待機（適宜調整可能）\u001b[39;00m\n\u001b[0;32m---> 56\u001b[0m     \u001b[43mtime\u001b[49m\u001b[38;5;241;43m.\u001b[39;49m\u001b[43msleep\u001b[49m\u001b[43m(\u001b[49m\u001b[38;5;241;43m0.1\u001b[39;49m\u001b[43m)\u001b[49m\n\u001b[1;32m     58\u001b[0m \u001b[38;5;28;01mexcept\u001b[39;00m \u001b[38;5;167;01mException\u001b[39;00m \u001b[38;5;28;01mas\u001b[39;00m e:\n\u001b[1;32m     59\u001b[0m     \u001b[38;5;28mprint\u001b[39m(\u001b[38;5;124mf\u001b[39m\u001b[38;5;124m\"\u001b[39m\u001b[38;5;124mAn error occurred: \u001b[39m\u001b[38;5;132;01m{\u001b[39;00me\u001b[38;5;132;01m}\u001b[39;00m\u001b[38;5;124m\"\u001b[39m)\n",
      "\u001b[0;31mKeyboardInterrupt\u001b[0m: "
     ]
    }
   ],
   "source": [
    "import requests\n",
    "import cv2\n",
    "import numpy as np\n",
    "import time\n",
    "\n",
    "# APIのエンドポイントURL\n",
    "url = \"http://localhost:5000/pose\"\n",
    "\n",
    "# ウィンドウサイズ\n",
    "window_width, window_height = 640, 480\n",
    "\n",
    "# OpenCVウィンドウの設定\n",
    "cv2.namedWindow(\"Pose Landmarks\", cv2.WINDOW_NORMAL)\n",
    "cv2.resizeWindow(\"Pose Landmarks\", window_width, window_height)\n",
    "\n",
    "# ランドマークデータを保存する辞書\n",
    "landmarks_dict = {}\n",
    "\n",
    "while True:\n",
    "    try:\n",
    "        # APIからデータを取得\n",
    "        response = requests.get(url)\n",
    "\n",
    "        if response.status_code == 200:\n",
    "            landmarks = response.json()  # JSONをパース\n",
    "            landmarks_dict.clear()  # 前のデータをクリア\n",
    "\n",
    "            # 黒い背景画像を作成\n",
    "            background = np.zeros((window_height, window_width, 3), dtype=np.uint8)\n",
    "\n",
    "            # 各ランドマークの座標情報を整理\n",
    "            for landmark in landmarks:\n",
    "                landmark_id = landmark['landmark_id']\n",
    "                x = int(landmark['x'] * window_width)  # 画面サイズに合わせてスケール\n",
    "                y = int(landmark['y'] * window_height)\n",
    "\n",
    "                # ランドマークのデータを保存\n",
    "                landmarks_dict[landmark_id] = {'x': x, 'y': y, 'z': landmark['z']}\n",
    "\n",
    "                # ランドマークIDと座標を表示\n",
    "                text = f\"ID: {landmark_id} ({x}, {y})\"\n",
    "                cv2.putText(background, text, (x, y), \n",
    "                            cv2.FONT_HERSHEY_SIMPLEX, 0.5, (0, 255, 0), 1, cv2.LINE_AA)\n",
    "\n",
    "            # 画面に表示\n",
    "            cv2.imshow(\"Pose Landmarks\", background)\n",
    "\n",
    "        else:\n",
    "            print(f\"Error: Unable to fetch data. Status code: {response.status_code}\")\n",
    "\n",
    "        # 'q'キーで終了\n",
    "        if cv2.waitKey(1) & 0xFF == ord('q'):\n",
    "            break\n",
    "\n",
    "        # 0.1秒待機（適宜調整可能）\n",
    "        time.sleep(0.1)\n",
    "\n",
    "    except Exception as e:\n",
    "        print(f\"An error occurred: {e}\")\n",
    "        break\n",
    "\n",
    "# ウィンドウを閉じる\n",
    "cv2.destroyAllWindows()\n",
    "\n",
    "\n"
   ]
  }
 ],
 "metadata": {
  "kernelspec": {
   "display_name": ".venv",
   "language": "python",
   "name": "python3"
  },
  "language_info": {
   "codemirror_mode": {
    "name": "ipython",
    "version": 3
   },
   "file_extension": ".py",
   "mimetype": "text/x-python",
   "name": "python",
   "nbconvert_exporter": "python",
   "pygments_lexer": "ipython3",
   "version": "3.12.3"
  }
 },
 "nbformat": 4,
 "nbformat_minor": 2
}
